{
 "cells": [
  {
   "cell_type": "markdown",
   "id": "19d09e64-aa80-47e1-9c8b-a5a24564bee7",
   "metadata": {},
   "source": [
    "# Example of building custom model with ModelBase class\n",
    "\n",
    "- Building custom model\n",
    "- Visual recommendations checking"
   ]
  },
  {
   "cell_type": "code",
   "execution_count": 1,
   "id": "dce07a5b-2716-41c5-8358-63f590dd69f0",
   "metadata": {},
   "outputs": [],
   "source": [
    "import numpy as np\n",
    "import pandas as pd\n",
    "from rectools.models.base import ModelBase, ModelConfig\n",
    "from rectools import Columns\n",
    "from rectools.dataset import Dataset\n",
    "from scipy.sparse import csr_matrix\n",
    "from sklearn.neighbors import NearestNeighbors\n",
    "import typing as tp\n",
    "import typing_extensions as tpe\n",
    "from rectools.models.base import InternalIdsArray\n",
    "from rectools.types import *\n",
    "from tqdm import tqdm\n",
    "from rectools.models.base import Scores\n"
   ]
  },
  {
   "cell_type": "markdown",
   "id": "c05f581d-c60b-40c1-8e52-368e1d97ab36",
   "metadata": {},
   "source": [
    "## Load data"
   ]
  },
  {
   "cell_type": "code",
   "execution_count": 3,
   "id": "7814e510-3179-44f0-b116-a30b670fa72e",
   "metadata": {},
   "outputs": [
    {
     "name": "stdout",
     "output_type": "stream",
     "text": [
      "Archive:  ml-1m.zip\n",
      "   creating: ml-1m/\n",
      "  inflating: ml-1m/movies.dat        \n",
      "  inflating: ml-1m/ratings.dat       \n",
      "  inflating: ml-1m/README            \n",
      "  inflating: ml-1m/users.dat         \n",
      "CPU times: user 48.4 ms, sys: 23.4 ms, total: 71.9 ms\n",
      "Wall time: 5.12 s\n"
     ]
    }
   ],
   "source": [
    "%%time\n",
    "!wget -q https://files.grouplens.org/datasets/movielens/ml-1m.zip -O ml-1m.zip\n",
    "!unzip -o ml-1m.zip\n",
    "!rm ml-1m.zip"
   ]
  },
  {
   "cell_type": "code",
   "execution_count": 37,
   "id": "884ebb14-fcae-4bbc-9221-299b613489f0",
   "metadata": {},
   "outputs": [
    {
     "name": "stdout",
     "output_type": "stream",
     "text": [
      "(1000209, 4)\n",
      "CPU times: user 2.95 s, sys: 102 ms, total: 3.05 s\n",
      "Wall time: 3.03 s\n"
     ]
    },
    {
     "data": {
      "text/html": [
       "<div>\n",
       "<style scoped>\n",
       "    .dataframe tbody tr th:only-of-type {\n",
       "        vertical-align: middle;\n",
       "    }\n",
       "\n",
       "    .dataframe tbody tr th {\n",
       "        vertical-align: top;\n",
       "    }\n",
       "\n",
       "    .dataframe thead th {\n",
       "        text-align: right;\n",
       "    }\n",
       "</style>\n",
       "<table border=\"1\" class=\"dataframe\">\n",
       "  <thead>\n",
       "    <tr style=\"text-align: right;\">\n",
       "      <th></th>\n",
       "      <th>user_id</th>\n",
       "      <th>item_id</th>\n",
       "      <th>weight</th>\n",
       "      <th>datetime</th>\n",
       "    </tr>\n",
       "  </thead>\n",
       "  <tbody>\n",
       "    <tr>\n",
       "      <th>0</th>\n",
       "      <td>1</td>\n",
       "      <td>1193</td>\n",
       "      <td>5</td>\n",
       "      <td>978300760</td>\n",
       "    </tr>\n",
       "    <tr>\n",
       "      <th>1</th>\n",
       "      <td>1</td>\n",
       "      <td>661</td>\n",
       "      <td>3</td>\n",
       "      <td>978302109</td>\n",
       "    </tr>\n",
       "    <tr>\n",
       "      <th>2</th>\n",
       "      <td>1</td>\n",
       "      <td>914</td>\n",
       "      <td>3</td>\n",
       "      <td>978301968</td>\n",
       "    </tr>\n",
       "    <tr>\n",
       "      <th>3</th>\n",
       "      <td>1</td>\n",
       "      <td>3408</td>\n",
       "      <td>4</td>\n",
       "      <td>978300275</td>\n",
       "    </tr>\n",
       "    <tr>\n",
       "      <th>4</th>\n",
       "      <td>1</td>\n",
       "      <td>2355</td>\n",
       "      <td>5</td>\n",
       "      <td>978824291</td>\n",
       "    </tr>\n",
       "  </tbody>\n",
       "</table>\n",
       "</div>"
      ],
      "text/plain": [
       "   user_id  item_id  weight   datetime\n",
       "0        1     1193       5  978300760\n",
       "1        1      661       3  978302109\n",
       "2        1      914       3  978301968\n",
       "3        1     3408       4  978300275\n",
       "4        1     2355       5  978824291"
      ]
     },
     "execution_count": 37,
     "metadata": {},
     "output_type": "execute_result"
    }
   ],
   "source": [
    "%%time\n",
    "ratings = pd.read_csv(\n",
    "    \"ml-1m/ratings.dat\", \n",
    "    sep=\"::\",\n",
    "    engine=\"python\",  # Because of 2-chars separators\n",
    "    header=None,\n",
    "    names=[Columns.User, Columns.Item, Columns.Weight, Columns.Datetime],\n",
    ")\n",
    "print(ratings.shape)\n",
    "ratings.head()"
   ]
  },
  {
   "cell_type": "code",
   "execution_count": 38,
   "id": "332cd6dd-d993-47b9-baec-c601b89fba12",
   "metadata": {},
   "outputs": [
    {
     "name": "stdout",
     "output_type": "stream",
     "text": [
      "(3883, 3)\n",
      "CPU times: user 11.4 ms, sys: 81 μs, total: 11.4 ms\n",
      "Wall time: 10.8 ms\n"
     ]
    },
    {
     "data": {
      "text/html": [
       "<div>\n",
       "<style scoped>\n",
       "    .dataframe tbody tr th:only-of-type {\n",
       "        vertical-align: middle;\n",
       "    }\n",
       "\n",
       "    .dataframe tbody tr th {\n",
       "        vertical-align: top;\n",
       "    }\n",
       "\n",
       "    .dataframe thead th {\n",
       "        text-align: right;\n",
       "    }\n",
       "</style>\n",
       "<table border=\"1\" class=\"dataframe\">\n",
       "  <thead>\n",
       "    <tr style=\"text-align: right;\">\n",
       "      <th></th>\n",
       "      <th>item_id</th>\n",
       "      <th>title</th>\n",
       "      <th>genres</th>\n",
       "    </tr>\n",
       "  </thead>\n",
       "  <tbody>\n",
       "    <tr>\n",
       "      <th>0</th>\n",
       "      <td>1</td>\n",
       "      <td>Toy Story (1995)</td>\n",
       "      <td>Animation|Children's|Comedy</td>\n",
       "    </tr>\n",
       "    <tr>\n",
       "      <th>1</th>\n",
       "      <td>2</td>\n",
       "      <td>Jumanji (1995)</td>\n",
       "      <td>Adventure|Children's|Fantasy</td>\n",
       "    </tr>\n",
       "    <tr>\n",
       "      <th>2</th>\n",
       "      <td>3</td>\n",
       "      <td>Grumpier Old Men (1995)</td>\n",
       "      <td>Comedy|Romance</td>\n",
       "    </tr>\n",
       "    <tr>\n",
       "      <th>3</th>\n",
       "      <td>4</td>\n",
       "      <td>Waiting to Exhale (1995)</td>\n",
       "      <td>Comedy|Drama</td>\n",
       "    </tr>\n",
       "    <tr>\n",
       "      <th>4</th>\n",
       "      <td>5</td>\n",
       "      <td>Father of the Bride Part II (1995)</td>\n",
       "      <td>Comedy</td>\n",
       "    </tr>\n",
       "  </tbody>\n",
       "</table>\n",
       "</div>"
      ],
      "text/plain": [
       "   item_id                               title                        genres\n",
       "0        1                    Toy Story (1995)   Animation|Children's|Comedy\n",
       "1        2                      Jumanji (1995)  Adventure|Children's|Fantasy\n",
       "2        3             Grumpier Old Men (1995)                Comedy|Romance\n",
       "3        4            Waiting to Exhale (1995)                  Comedy|Drama\n",
       "4        5  Father of the Bride Part II (1995)                        Comedy"
      ]
     },
     "execution_count": 38,
     "metadata": {},
     "output_type": "execute_result"
    }
   ],
   "source": [
    "%%time\n",
    "movies = pd.read_csv(\n",
    "    \"ml-1m/movies.dat\", \n",
    "    sep=\"::\",\n",
    "    engine=\"python\",  # Because of 2-chars separators\n",
    "    header=None,\n",
    "    names=[Columns.Item, \"title\", \"genres\"],\n",
    "    encoding_errors=\"ignore\",\n",
    ")\n",
    "print(movies.shape)\n",
    "movies.head()"
   ]
  },
  {
   "cell_type": "markdown",
   "id": "3795f0e2-ac3e-4c89-a901-2988522d0629",
   "metadata": {},
   "source": [
    "## Build model"
   ]
  },
  {
   "cell_type": "markdown",
   "id": "d3f41d9e-b6aa-4a66-b681-2b504c80fbd0",
   "metadata": {},
   "source": [
    "### Write a model config inherited from `ModelConfig`"
   ]
  },
  {
   "cell_type": "code",
   "execution_count": 39,
   "id": "95f01cdf-b126-4035-a5b6-867d45aeaa99",
   "metadata": {},
   "outputs": [],
   "source": [
    "class KnnModelConfig(ModelConfig):\n",
    "    \"\"\"Config for `KNN` model.\"\"\"\n",
    "\n",
    "    # KNN algorithm hyperparams\n",
    "    metric: tp.Optional[str] = None\n",
    "    algorithm: tp.Optional[str] = None\n",
    "    n_neighbors: tp.Optional[int] = None\n",
    "    n_jobs: tp.Optional[int] = None"
   ]
  },
  {
   "cell_type": "markdown",
   "id": "9cf2011c-6b5a-4707-a640-333664cc85b5",
   "metadata": {},
   "source": [
    "### Write a model logic in class inherited from `ModelBase`"
   ]
  },
  {
   "cell_type": "code",
   "execution_count": 40,
   "id": "4f2cb8cf-17c3-4f0e-a979-4411a35af283",
   "metadata": {},
   "outputs": [],
   "source": [
    "\n",
    "\n",
    "class KnnModel(ModelBase[KnnModelConfig]):\n",
    "    \n",
    "    recommends_for_warm = True\n",
    "    recommends_for_cold = False\n",
    "    config_class = KnnModelConfig\n",
    "\n",
    "    def __init__(self,\n",
    "                 metric: tp.Optional[str] = None,\n",
    "                 algorithm: tp.Optional[str] = None,\n",
    "                 n_neighbors: tp.Optional[int] = None,\n",
    "                 n_jobs: tp.Optional[int] = None,\n",
    "                 verbose: int = 0):\n",
    "        super().__init__(verbose=verbose)\n",
    "        self.metric = metric\n",
    "        self.algorithm = algorithm\n",
    "        self.n_neighbors = n_neighbors\n",
    "        self.n_jobs = n_jobs\n",
    "        self.knn_model = NearestNeighbors(metric = self.metric,\n",
    "                       algorithm = self.algorithm,\n",
    "                       n_neighbors = self.n_neighbors,\n",
    "                       n_jobs = self.n_jobs)\n",
    "        self.all_item_ids: np.ndarray\n",
    "        self.ui_csr: csr_matrix\n",
    "\n",
    "    def _get_config(self) -> KnnModelConfig:\n",
    "        return KnnModelConfig(metric=self.metric, algorithm=self.algorithm, n_neighbors=self.n_neighbors, verbose=self.verbose)\n",
    "\n",
    "    @classmethod\n",
    "    def _from_config(cls, config: KnnModelConfig) -> tpe.Self:\n",
    "        return cls(metric=config.metric, algorithm=config.algorithm, n_neighbors=config.n_neighbors, verbose=config.verbose)\n",
    "\n",
    "    def _fit(self, dataset: Dataset) -> None:  # type: ignore\n",
    "        self.all_item_ids = dataset.item_id_map.internal_ids\n",
    "        self.ui_csr = dataset.get_user_item_matrix(include_weights=False, dtype=np.float64)\n",
    "        self.knn_model.fit(self.ui_csr)\n",
    "\n",
    "    def _recommend_i2i(\n",
    "        self,\n",
    "        target_ids: InternalIdsArray,\n",
    "        dataset: Dataset,\n",
    "        k: int,\n",
    "        sorted_item_ids_to_recommend: tp.Optional[InternalIdsArray],\n",
    "    ) -> tp.Tuple[InternalIds, InternalIds, Scores]:\n",
    "        sorted_item_ids_to_recommend = dataset.get_user_item_matrix(include_weights=False,\n",
    "                                                                    dtype=np.float64)[sorted_item_ids_to_recommend] if sorted_item_ids_to_recommend is not None else self.all_item_ids\n",
    "\n",
    "        all_target_ids = []\n",
    "        all_reco_ids: tp.List[np.ndarray] = []\n",
    "        all_scores: tp.List[np.ndarray] = []\n",
    "        for target_id in tqdm(target_ids, disable=self.verbose == 0):\n",
    "            reco_scores, reco_ids = self.knn_model.kneighbors(self.ui_csr[target_id], n_neighbors = k + 1)\n",
    "            all_target_ids.extend([target_id] * len(reco_ids))\n",
    "            all_reco_ids.append(reco_ids)\n",
    "            all_scores.append(reco_scores)\n",
    "\n",
    "        all_reco_ids_arr = np.concatenate(all_reco_ids)\n",
    "\n",
    "        if sorted_item_ids_to_recommend is not None:\n",
    "            all_reco_ids_arr = sorted_item_ids_to_recommend[all_reco_ids_arr]\n",
    "\n",
    "        return all_target_ids, all_reco_ids_arr, np.concatenate(all_scores)"
   ]
  },
  {
   "cell_type": "code",
   "execution_count": 41,
   "id": "e8757369-bec2-48f2-a876-a359d444d706",
   "metadata": {},
   "outputs": [],
   "source": [
    "model = KnnModel(metric=\"cosine\", algorithm=\"brute\", n_neighbors=20, n_jobs=-1)"
   ]
  },
  {
   "cell_type": "code",
   "execution_count": 42,
   "id": "53750dfe-9b46-4b8d-9bfe-e0c9caa41770",
   "metadata": {},
   "outputs": [],
   "source": [
    "dataset = Dataset.construct(ratings)"
   ]
  },
  {
   "cell_type": "code",
   "execution_count": 43,
   "id": "0c279b6f-2287-4198-b958-f00729fabadd",
   "metadata": {},
   "outputs": [
    {
     "data": {
      "text/plain": [
       "<__main__.KnnModel at 0x797862117af0>"
      ]
     },
     "execution_count": 43,
     "metadata": {},
     "output_type": "execute_result"
    }
   ],
   "source": [
    "model.fit(dataset)"
   ]
  },
  {
   "cell_type": "code",
   "execution_count": 46,
   "id": "5c373d0f-bf04-4256-81c6-35f1f124f118",
   "metadata": {},
   "outputs": [
    {
     "ename": "IndexError",
     "evalue": "Index dimension must be 1 or 2",
     "output_type": "error",
     "traceback": [
      "\u001b[0;31m---------------------------------------------------------------------------\u001b[0m",
      "\u001b[0;31mIndexError\u001b[0m                                Traceback (most recent call last)",
      "Cell \u001b[0;32mIn[46], line 1\u001b[0m\n\u001b[0;32m----> 1\u001b[0m \u001b[43mmodel\u001b[49m\u001b[38;5;241;43m.\u001b[39;49m\u001b[43m_recommend_i2i\u001b[49m\u001b[43m(\u001b[49m\u001b[43mInternalIdsArray\u001b[49m\u001b[43m(\u001b[49m\u001b[43m[\u001b[49m\u001b[38;5;241;43m1\u001b[39;49m\u001b[43m]\u001b[49m\u001b[43m)\u001b[49m\u001b[43m,\u001b[49m\u001b[43m \u001b[49m\u001b[43mdataset\u001b[49m\u001b[43m,\u001b[49m\u001b[43m \u001b[49m\u001b[38;5;241;43m10\u001b[39;49m\u001b[43m,\u001b[49m\u001b[43m \u001b[49m\u001b[38;5;28;43;01mNone\u001b[39;49;00m\u001b[43m)\u001b[49m\n",
      "Cell \u001b[0;32mIn[40], line 53\u001b[0m, in \u001b[0;36mKnnModel._recommend_i2i\u001b[0;34m(self, target_ids, dataset, k, sorted_item_ids_to_recommend)\u001b[0m\n\u001b[1;32m     51\u001b[0m all_scores: tp\u001b[38;5;241m.\u001b[39mList[np\u001b[38;5;241m.\u001b[39mndarray] \u001b[38;5;241m=\u001b[39m []\n\u001b[1;32m     52\u001b[0m \u001b[38;5;28;01mfor\u001b[39;00m target_id \u001b[38;5;129;01min\u001b[39;00m tqdm(target_ids, disable\u001b[38;5;241m=\u001b[39m\u001b[38;5;28mself\u001b[39m\u001b[38;5;241m.\u001b[39mverbose \u001b[38;5;241m==\u001b[39m \u001b[38;5;241m0\u001b[39m):\n\u001b[0;32m---> 53\u001b[0m     reco_scores, reco_ids \u001b[38;5;241m=\u001b[39m \u001b[38;5;28mself\u001b[39m\u001b[38;5;241m.\u001b[39mknn_model\u001b[38;5;241m.\u001b[39mkneighbors(\u001b[38;5;28;43mself\u001b[39;49m\u001b[38;5;241;43m.\u001b[39;49m\u001b[43mui_csr\u001b[49m\u001b[43m[\u001b[49m\u001b[43mtarget_id\u001b[49m\u001b[43m]\u001b[49m, n_neighbors \u001b[38;5;241m=\u001b[39m k \u001b[38;5;241m+\u001b[39m \u001b[38;5;241m1\u001b[39m)\n\u001b[1;32m     54\u001b[0m     all_target_ids\u001b[38;5;241m.\u001b[39mextend([target_id] \u001b[38;5;241m*\u001b[39m \u001b[38;5;28mlen\u001b[39m(reco_ids))\n\u001b[1;32m     55\u001b[0m     all_reco_ids\u001b[38;5;241m.\u001b[39mappend(reco_ids)\n",
      "File \u001b[0;32m~/.local/lib/python3.10/site-packages/scipy/sparse/_index.py:46\u001b[0m, in \u001b[0;36mIndexMixin.__getitem__\u001b[0;34m(self, key)\u001b[0m\n\u001b[1;32m     45\u001b[0m \u001b[38;5;28;01mdef\u001b[39;00m \u001b[38;5;21m__getitem__\u001b[39m(\u001b[38;5;28mself\u001b[39m, key):\n\u001b[0;32m---> 46\u001b[0m     row, col \u001b[38;5;241m=\u001b[39m \u001b[38;5;28;43mself\u001b[39;49m\u001b[38;5;241;43m.\u001b[39;49m\u001b[43m_validate_indices\u001b[49m\u001b[43m(\u001b[49m\u001b[43mkey\u001b[49m\u001b[43m)\u001b[49m\n\u001b[1;32m     48\u001b[0m     \u001b[38;5;66;03m# Dispatch to specialized methods.\u001b[39;00m\n\u001b[1;32m     49\u001b[0m     \u001b[38;5;28;01mif\u001b[39;00m \u001b[38;5;28misinstance\u001b[39m(row, INT_TYPES):\n",
      "File \u001b[0;32m~/.local/lib/python3.10/site-packages/scipy/sparse/_index.py:158\u001b[0m, in \u001b[0;36mIndexMixin._validate_indices\u001b[0;34m(self, key)\u001b[0m\n\u001b[1;32m    156\u001b[0m         row \u001b[38;5;241m+\u001b[39m\u001b[38;5;241m=\u001b[39m M\n\u001b[1;32m    157\u001b[0m \u001b[38;5;28;01melif\u001b[39;00m \u001b[38;5;129;01mnot\u001b[39;00m \u001b[38;5;28misinstance\u001b[39m(row, \u001b[38;5;28mslice\u001b[39m):\n\u001b[0;32m--> 158\u001b[0m     row \u001b[38;5;241m=\u001b[39m \u001b[38;5;28;43mself\u001b[39;49m\u001b[38;5;241;43m.\u001b[39;49m\u001b[43m_asindices\u001b[49m\u001b[43m(\u001b[49m\u001b[43mrow\u001b[49m\u001b[43m,\u001b[49m\u001b[43m \u001b[49m\u001b[43mM\u001b[49m\u001b[43m)\u001b[49m\n\u001b[1;32m    160\u001b[0m \u001b[38;5;28;01mif\u001b[39;00m isintlike(col):\n\u001b[1;32m    161\u001b[0m     col \u001b[38;5;241m=\u001b[39m \u001b[38;5;28mint\u001b[39m(col)\n",
      "File \u001b[0;32m~/.local/lib/python3.10/site-packages/scipy/sparse/_index.py:182\u001b[0m, in \u001b[0;36mIndexMixin._asindices\u001b[0;34m(self, idx, length)\u001b[0m\n\u001b[1;32m    179\u001b[0m     \u001b[38;5;28;01mraise\u001b[39;00m \u001b[38;5;167;01mIndexError\u001b[39;00m(\u001b[38;5;124m'\u001b[39m\u001b[38;5;124minvalid index\u001b[39m\u001b[38;5;124m'\u001b[39m) \u001b[38;5;28;01mfrom\u001b[39;00m \u001b[38;5;21;01me\u001b[39;00m\n\u001b[1;32m    181\u001b[0m \u001b[38;5;28;01mif\u001b[39;00m x\u001b[38;5;241m.\u001b[39mndim \u001b[38;5;129;01mnot\u001b[39;00m \u001b[38;5;129;01min\u001b[39;00m (\u001b[38;5;241m1\u001b[39m, \u001b[38;5;241m2\u001b[39m):\n\u001b[0;32m--> 182\u001b[0m     \u001b[38;5;28;01mraise\u001b[39;00m \u001b[38;5;167;01mIndexError\u001b[39;00m(\u001b[38;5;124m'\u001b[39m\u001b[38;5;124mIndex dimension must be 1 or 2\u001b[39m\u001b[38;5;124m'\u001b[39m)\n\u001b[1;32m    184\u001b[0m \u001b[38;5;28;01mif\u001b[39;00m x\u001b[38;5;241m.\u001b[39msize \u001b[38;5;241m==\u001b[39m \u001b[38;5;241m0\u001b[39m:\n\u001b[1;32m    185\u001b[0m     \u001b[38;5;28;01mreturn\u001b[39;00m x\n",
      "\u001b[0;31mIndexError\u001b[0m: Index dimension must be 1 or 2"
     ]
    }
   ],
   "source": [
    "model._recommend_i2i(InternalIdsArray([1]), dataset, 10, None)"
   ]
  }
 ],
 "metadata": {
  "kernelspec": {
   "display_name": "new",
   "language": "python",
   "name": "python3"
  },
  "language_info": {
   "codemirror_mode": {
    "name": "ipython",
    "version": 3
   },
   "file_extension": ".py",
   "mimetype": "text/x-python",
   "name": "python",
   "nbconvert_exporter": "python",
   "pygments_lexer": "ipython3",
   "version": "3.10.16"
  }
 },
 "nbformat": 4,
 "nbformat_minor": 5
}
