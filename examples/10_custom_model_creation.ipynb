{
 "cells": [
  {
   "cell_type": "markdown",
   "id": "19d09e64-aa80-47e1-9c8b-a5a24564bee7",
   "metadata": {},
   "source": [
    "# Example of building custom model with ModelBase class\n",
    "\n",
    "- Building custom model\n",
    "- Visual recommendations checking"
   ]
  },
  {
   "cell_type": "code",
   "execution_count": 275,
   "id": "dce07a5b-2716-41c5-8358-63f590dd69f0",
   "metadata": {},
   "outputs": [],
   "source": [
    "import numpy as np\n",
    "import pandas as pd\n",
    "from rectools.models.base import ModelBase, ModelConfig\n",
    "from rectools import Columns\n",
    "from rectools.dataset import Dataset\n",
    "from scipy.sparse import csr_matrix\n",
    "from sklearn.neighbors import NearestNeighbors\n",
    "import typing as tp\n",
    "import typing_extensions as tpe\n",
    "from rectools.models.base import InternalIdsArray\n",
    "from rectools.types import *\n",
    "from tqdm import tqdm\n",
    "from rectools.models.base import Scores\n",
    "from rectools.visuals.visual_app import ItemToItemVisualApp"
   ]
  },
  {
   "cell_type": "markdown",
   "id": "c05f581d-c60b-40c1-8e52-368e1d97ab36",
   "metadata": {},
   "source": [
    "## Load data"
   ]
  },
  {
   "cell_type": "code",
   "execution_count": 2,
   "id": "7814e510-3179-44f0-b116-a30b670fa72e",
   "metadata": {},
   "outputs": [
    {
     "name": "stdout",
     "output_type": "stream",
     "text": [
      "Archive:  ml-1m.zip\n",
      "  inflating: ml-1m/movies.dat        \n",
      "  inflating: ml-1m/ratings.dat       \n",
      "  inflating: ml-1m/README            \n",
      "  inflating: ml-1m/users.dat         \n",
      "CPU times: user 46 ms, sys: 22.8 ms, total: 68.8 ms\n",
      "Wall time: 5.5 s\n"
     ]
    }
   ],
   "source": [
    "%%time\n",
    "!wget -q https://files.grouplens.org/datasets/movielens/ml-1m.zip -O ml-1m.zip\n",
    "!unzip -o ml-1m.zip\n",
    "!rm ml-1m.zip"
   ]
  },
  {
   "cell_type": "code",
   "execution_count": 2,
   "id": "884ebb14-fcae-4bbc-9221-299b613489f0",
   "metadata": {},
   "outputs": [
    {
     "name": "stdout",
     "output_type": "stream",
     "text": [
      "(1000209, 4)\n",
      "CPU times: user 1.99 s, sys: 99.9 ms, total: 2.09 s\n",
      "Wall time: 2.09 s\n"
     ]
    },
    {
     "data": {
      "text/html": [
       "<div>\n",
       "<style scoped>\n",
       "    .dataframe tbody tr th:only-of-type {\n",
       "        vertical-align: middle;\n",
       "    }\n",
       "\n",
       "    .dataframe tbody tr th {\n",
       "        vertical-align: top;\n",
       "    }\n",
       "\n",
       "    .dataframe thead th {\n",
       "        text-align: right;\n",
       "    }\n",
       "</style>\n",
       "<table border=\"1\" class=\"dataframe\">\n",
       "  <thead>\n",
       "    <tr style=\"text-align: right;\">\n",
       "      <th></th>\n",
       "      <th>user_id</th>\n",
       "      <th>item_id</th>\n",
       "      <th>weight</th>\n",
       "      <th>datetime</th>\n",
       "    </tr>\n",
       "  </thead>\n",
       "  <tbody>\n",
       "    <tr>\n",
       "      <th>0</th>\n",
       "      <td>1</td>\n",
       "      <td>1193</td>\n",
       "      <td>5</td>\n",
       "      <td>978300760</td>\n",
       "    </tr>\n",
       "    <tr>\n",
       "      <th>1</th>\n",
       "      <td>1</td>\n",
       "      <td>661</td>\n",
       "      <td>3</td>\n",
       "      <td>978302109</td>\n",
       "    </tr>\n",
       "    <tr>\n",
       "      <th>2</th>\n",
       "      <td>1</td>\n",
       "      <td>914</td>\n",
       "      <td>3</td>\n",
       "      <td>978301968</td>\n",
       "    </tr>\n",
       "    <tr>\n",
       "      <th>3</th>\n",
       "      <td>1</td>\n",
       "      <td>3408</td>\n",
       "      <td>4</td>\n",
       "      <td>978300275</td>\n",
       "    </tr>\n",
       "    <tr>\n",
       "      <th>4</th>\n",
       "      <td>1</td>\n",
       "      <td>2355</td>\n",
       "      <td>5</td>\n",
       "      <td>978824291</td>\n",
       "    </tr>\n",
       "  </tbody>\n",
       "</table>\n",
       "</div>"
      ],
      "text/plain": [
       "   user_id  item_id  weight   datetime\n",
       "0        1     1193       5  978300760\n",
       "1        1      661       3  978302109\n",
       "2        1      914       3  978301968\n",
       "3        1     3408       4  978300275\n",
       "4        1     2355       5  978824291"
      ]
     },
     "execution_count": 2,
     "metadata": {},
     "output_type": "execute_result"
    }
   ],
   "source": [
    "%%time\n",
    "ratings = pd.read_csv(\n",
    "    \"ml-1m/ratings.dat\", \n",
    "    sep=\"::\",\n",
    "    engine=\"python\",  # Because of 2-chars separators\n",
    "    header=None,\n",
    "    names=[Columns.User, Columns.Item, Columns.Weight, Columns.Datetime],\n",
    ")\n",
    "print(ratings.shape)\n",
    "ratings.head()"
   ]
  },
  {
   "cell_type": "code",
   "execution_count": 3,
   "id": "332cd6dd-d993-47b9-baec-c601b89fba12",
   "metadata": {},
   "outputs": [
    {
     "name": "stdout",
     "output_type": "stream",
     "text": [
      "(3883, 3)\n",
      "CPU times: user 5.53 ms, sys: 400 μs, total: 5.93 ms\n",
      "Wall time: 5.36 ms\n"
     ]
    },
    {
     "data": {
      "text/html": [
       "<div>\n",
       "<style scoped>\n",
       "    .dataframe tbody tr th:only-of-type {\n",
       "        vertical-align: middle;\n",
       "    }\n",
       "\n",
       "    .dataframe tbody tr th {\n",
       "        vertical-align: top;\n",
       "    }\n",
       "\n",
       "    .dataframe thead th {\n",
       "        text-align: right;\n",
       "    }\n",
       "</style>\n",
       "<table border=\"1\" class=\"dataframe\">\n",
       "  <thead>\n",
       "    <tr style=\"text-align: right;\">\n",
       "      <th></th>\n",
       "      <th>item_id</th>\n",
       "      <th>title</th>\n",
       "      <th>genres</th>\n",
       "    </tr>\n",
       "  </thead>\n",
       "  <tbody>\n",
       "    <tr>\n",
       "      <th>0</th>\n",
       "      <td>1</td>\n",
       "      <td>Toy Story (1995)</td>\n",
       "      <td>Animation|Children's|Comedy</td>\n",
       "    </tr>\n",
       "    <tr>\n",
       "      <th>1</th>\n",
       "      <td>2</td>\n",
       "      <td>Jumanji (1995)</td>\n",
       "      <td>Adventure|Children's|Fantasy</td>\n",
       "    </tr>\n",
       "    <tr>\n",
       "      <th>2</th>\n",
       "      <td>3</td>\n",
       "      <td>Grumpier Old Men (1995)</td>\n",
       "      <td>Comedy|Romance</td>\n",
       "    </tr>\n",
       "    <tr>\n",
       "      <th>3</th>\n",
       "      <td>4</td>\n",
       "      <td>Waiting to Exhale (1995)</td>\n",
       "      <td>Comedy|Drama</td>\n",
       "    </tr>\n",
       "    <tr>\n",
       "      <th>4</th>\n",
       "      <td>5</td>\n",
       "      <td>Father of the Bride Part II (1995)</td>\n",
       "      <td>Comedy</td>\n",
       "    </tr>\n",
       "  </tbody>\n",
       "</table>\n",
       "</div>"
      ],
      "text/plain": [
       "   item_id                               title                        genres\n",
       "0        1                    Toy Story (1995)   Animation|Children's|Comedy\n",
       "1        2                      Jumanji (1995)  Adventure|Children's|Fantasy\n",
       "2        3             Grumpier Old Men (1995)                Comedy|Romance\n",
       "3        4            Waiting to Exhale (1995)                  Comedy|Drama\n",
       "4        5  Father of the Bride Part II (1995)                        Comedy"
      ]
     },
     "execution_count": 3,
     "metadata": {},
     "output_type": "execute_result"
    }
   ],
   "source": [
    "%%time\n",
    "movies = pd.read_csv(\n",
    "    \"ml-1m/movies.dat\", \n",
    "    sep=\"::\",\n",
    "    engine=\"python\",  # Because of 2-chars separators\n",
    "    header=None,\n",
    "    names=[Columns.Item, \"title\", \"genres\"],\n",
    "    encoding_errors=\"ignore\",\n",
    ")\n",
    "print(movies.shape)\n",
    "movies.head()"
   ]
  },
  {
   "cell_type": "markdown",
   "id": "3795f0e2-ac3e-4c89-a901-2988522d0629",
   "metadata": {},
   "source": [
    "## Build model"
   ]
  },
  {
   "cell_type": "markdown",
   "id": "d3f41d9e-b6aa-4a66-b681-2b504c80fbd0",
   "metadata": {},
   "source": [
    "### Write a model config inherited from `ModelConfig`"
   ]
  },
  {
   "cell_type": "code",
   "execution_count": 4,
   "id": "95f01cdf-b126-4035-a5b6-867d45aeaa99",
   "metadata": {},
   "outputs": [],
   "source": [
    "class KnnModelConfig(ModelConfig):\n",
    "    \"\"\"Config for `KNN` model.\"\"\"\n",
    "\n",
    "    # KNN algorithm hyperparams\n",
    "    metric: tp.Optional[str] = None\n",
    "    algorithm: tp.Optional[str] = None\n",
    "    n_neighbors: tp.Optional[int] = None\n",
    "    n_jobs: tp.Optional[int] = None"
   ]
  },
  {
   "cell_type": "markdown",
   "id": "9cf2011c-6b5a-4707-a640-333664cc85b5",
   "metadata": {},
   "source": [
    "### Write a model logic in class inherited from `ModelBase`"
   ]
  },
  {
   "cell_type": "code",
   "execution_count": 266,
   "id": "4f2cb8cf-17c3-4f0e-a979-4411a35af283",
   "metadata": {},
   "outputs": [],
   "source": [
    "class KnnModel(ModelBase[KnnModelConfig]):\n",
    "    # There is a sample recsys model inherited from ModelBase\n",
    "    # Define is able to make cold and warm recommendations\n",
    "    # Set config class to defined above\n",
    "    recommends_for_warm = False\n",
    "    recommends_for_cold = False\n",
    "    config_class = KnnModelConfig\n",
    "\n",
    "    # Set all hyperparams in __init__\n",
    "    def __init__(self,\n",
    "                 metric: tp.Optional[str] = None,\n",
    "                 algorithm: tp.Optional[str] = None,\n",
    "                 n_neighbors: tp.Optional[int] = None,\n",
    "                 n_jobs: tp.Optional[int] = None,\n",
    "                 verbose: int = 0):\n",
    "        super().__init__(verbose=verbose)\n",
    "        self.metric = metric\n",
    "        self.algorithm = algorithm\n",
    "        self.n_neighbors = n_neighbors\n",
    "        self.n_jobs = n_jobs\n",
    "        self.knn_model = NearestNeighbors(metric = self.metric,\n",
    "                       algorithm = self.algorithm,\n",
    "                       n_neighbors = self.n_neighbors,\n",
    "                       n_jobs = self.n_jobs)\n",
    "        self.all_item_ids: np.ndarray\n",
    "        self.ui_csr: csr_matrix\n",
    "\n",
    "    # Method used to save hyperparams in config\n",
    "    def _get_config(self) -> KnnModelConfig:\n",
    "        return KnnModelConfig(metric=self.metric, algorithm=self.algorithm, n_neighbors=self.n_neighbors, verbose=self.verbose)\n",
    "\n",
    "    # Method used to load model params from config\n",
    "    @classmethod\n",
    "    def _from_config(cls, config: KnnModelConfig) -> tpe.Self:\n",
    "        return cls(metric=config.metric, algorithm=config.algorithm, n_neighbors=config.n_neighbors, verbose=config.verbose)\n",
    "\n",
    "    # Method used to fit model, there is a sklearn KNN wrapper, so we need to fit KNN model with dataset csr matrix\n",
    "    def _fit(self, dataset: Dataset) -> None:  # type: ignore\n",
    "        self.all_item_ids = dataset.item_id_map.internal_ids\n",
    "        self.ui_csr = dataset.get_user_item_matrix(include_weights=False, dtype=np.float64)\n",
    "        self.knn_model.fit(self.ui_csr)\n",
    "\n",
    "    # Method used to make item-item recommendations, not for direct invokation, used in recommend_to_items method of base class\n",
    "    # Params:\n",
    "    # target_ids - InternalIdsArray of item ids for which predictions need to be made\n",
    "    # dataset - instance of Dataset class\n",
    "    # k - maximum count of top rated elements presented in recommendations\n",
    "    # sorted_item_ids_to_recommend - optional InternalIdsArray of item ids from which predictions are made\n",
    "    # Returns:\n",
    "    # Equaly sized arrays of target ids, predictions ids, scores\n",
    "    # in this method you need to ensure, that your realization handles all parameters correctly i.e. \n",
    "    # it can limit k predictions and limit the set of allowed items.\n",
    "    def _recommend_i2i(self,\n",
    "                       target_ids: InternalIdsArray,\n",
    "                       dataset: Dataset,\n",
    "                       k: int,\n",
    "                       sorted_item_ids_to_recommend: tp.Optional[InternalIdsArray]) -> tp.Tuple[InternalIds, InternalIds, Scores]:\n",
    "        sorted_item_ids_to_recommend = dataset.get_user_item_matrix(include_weights=False,\n",
    "                                                                    dtype=np.float64)[sorted_item_ids_to_recommend] if sorted_item_ids_to_recommend is not None else self.all_item_ids\n",
    "\n",
    "        all_target_ids = []\n",
    "        all_reco_ids: tp.List[np.ndarray] = []\n",
    "        all_scores: tp.List[np.ndarray] = []\n",
    "        for target_id in tqdm(target_ids, disable=self.verbose == 0):\n",
    "            reco_scores, reco_ids = self.knn_model.kneighbors(self.ui_csr[target_id], n_neighbors = k + 1)\n",
    "            all_target_ids.extend([target_id] * len(reco_ids.tolist()[0]))\n",
    "            all_reco_ids.extend(reco_ids.tolist())\n",
    "            all_scores.extend(reco_scores.tolist())\n",
    "\n",
    "        all_target_ids = np.array(all_target_ids) \n",
    "        all_reco_ids_arr = np.concatenate(all_reco_ids)\n",
    "        all_reco_scores_array = np.concatenate(all_scores)\n",
    "        valid_indices = all_reco_ids_arr < len(sorted_item_ids_to_recommend)\n",
    "\n",
    "        all_reco_ids_arr = all_reco_ids_arr[valid_indices]\n",
    "        all_target_ids = all_target_ids[valid_indices]\n",
    "        all_reco_scores_array = all_reco_scores_array[valid_indices]\n",
    "        \n",
    "        if sorted_item_ids_to_recommend is not None:\n",
    "            items_indeces = np.isin(all_reco_ids_arr, sorted_item_ids_to_recommend)\n",
    "            all_reco_ids_arr = all_reco_ids_arr[items_indeces]\n",
    "            all_target_ids = all_target_ids[items_indeces]\n",
    "            all_reco_scores_array = all_reco_scores_array[items_indeces]\n",
    "\n",
    "        return all_target_ids, all_reco_ids_arr, all_reco_scores_array"
   ]
  },
  {
   "cell_type": "code",
   "execution_count": 267,
   "id": "e8757369-bec2-48f2-a876-a359d444d706",
   "metadata": {},
   "outputs": [],
   "source": [
    "model = KnnModel(metric=\"cosine\", algorithm=\"brute\", n_neighbors=20, n_jobs=-1)"
   ]
  },
  {
   "cell_type": "code",
   "execution_count": 268,
   "id": "53750dfe-9b46-4b8d-9bfe-e0c9caa41770",
   "metadata": {},
   "outputs": [],
   "source": [
    "dataset = Dataset.construct(ratings)"
   ]
  },
  {
   "cell_type": "code",
   "execution_count": 269,
   "id": "0c279b6f-2287-4198-b958-f00729fabadd",
   "metadata": {},
   "outputs": [
    {
     "data": {
      "text/plain": [
       "<__main__.KnnModel at 0x7db3e9fa4bb0>"
      ]
     },
     "execution_count": 269,
     "metadata": {},
     "output_type": "execute_result"
    }
   ],
   "source": [
    "model.fit(dataset)"
   ]
  },
  {
   "cell_type": "markdown",
   "id": "ac06ff1f-d1c2-4fcd-b328-70197e2b02a5",
   "metadata": {},
   "source": [
    "## Use model to recommend similar items"
   ]
  },
  {
   "cell_type": "code",
   "execution_count": 283,
   "id": "5c373d0f-bf04-4256-81c6-35f1f124f118",
   "metadata": {},
   "outputs": [],
   "source": [
    "reco = model.recommend_to_items([1,7,6,2,3,5], dataset, 10)\n",
    "reco[Columns.Model] = \"KnnCustomModel\""
   ]
  },
  {
   "cell_type": "code",
   "execution_count": 290,
   "id": "f7451d5d-5689-40ff-8f1f-fd9c163c6833",
   "metadata": {},
   "outputs": [],
   "source": [
    "selected_items = {\"item_one\": 3}\n",
    "formatters = {\"item_id\": lambda x: f\"<b>{x}</b>\"}"
   ]
  },
  {
   "cell_type": "code",
   "execution_count": 291,
   "id": "d34cd895-5957-4176-9e59-dc2b74f1079d",
   "metadata": {},
   "outputs": [
    {
     "data": {
      "application/vnd.jupyter.widget-view+json": {
       "model_id": "c5cb24fd43314999966c70919be0aa5c",
       "version_major": 2,
       "version_minor": 0
      },
      "text/plain": [
       "VBox(children=(ToggleButtons(button_style='warning', description='Target:', options=('item_one',), value='item…"
      ]
     },
     "metadata": {},
     "output_type": "display_data"
    }
   ],
   "source": [
    "app = ItemToItemVisualApp.construct(\n",
    "    reco=reco,\n",
    "    item_data=movies,\n",
    "    selected_items=selected_items,\n",
    "    formatters=formatters,\n",
    "    auto_display=True\n",
    ")"
   ]
  },
  {
   "cell_type": "code",
   "execution_count": null,
   "id": "b4825b91-eaa0-405e-9b9e-2523fc6ba66b",
   "metadata": {},
   "outputs": [],
   "source": []
  }
 ],
 "metadata": {
  "kernelspec": {
   "display_name": "Python 3 (ipykernel)",
   "language": "python",
   "name": "python3"
  },
  "language_info": {
   "codemirror_mode": {
    "name": "ipython",
    "version": 3
   },
   "file_extension": ".py",
   "mimetype": "text/x-python",
   "name": "python",
   "nbconvert_exporter": "python",
   "pygments_lexer": "ipython3",
   "version": "3.10.16"
  }
 },
 "nbformat": 4,
 "nbformat_minor": 5
}
